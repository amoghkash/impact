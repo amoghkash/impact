{
 "cells": [
  {
   "cell_type": "code",
   "execution_count": null,
   "metadata": {},
   "outputs": [],
   "source": [
    "# Import all the neccessary packages\n",
    "import tensorflow as tf\n",
    "import pandas as pd\n",
    "import numpy as np\n",
    "from tensorflow import keras\n",
    "from tensorflow.keras import layers\n",
    "import variable.const as constant\n",
    "#import data.input as input"
   ]
  },
  {
   "cell_type": "code",
   "execution_count": null,
   "metadata": {},
   "outputs": [],
   "source": [
    "impact_train = pd.read_csv(constant.trainingfile)\n",
    "impact_test = pd.read_csv(constant.testingfile)"
   ]
  },
  {
   "cell_type": "code",
   "execution_count": null,
   "metadata": {},
   "outputs": [],
   "source": [
    "impact_train.head() # Validation of Data\n",
    "impact_test.head()"
   ]
  },
  {
   "cell_type": "code",
   "execution_count": null,
   "metadata": {},
   "outputs": [],
   "source": [
    "impact_features = impact_train.copy()\n",
    "impact_labels = impact_features.pop('classification')\n",
    "\n",
    "impact_xval = impact_test.copy()\n",
    "impact_yval = impact_xval.pop('classification')"
   ]
  },
  {
   "cell_type": "code",
   "execution_count": null,
   "metadata": {},
   "outputs": [],
   "source": [
    "impact_features = np.array(impact_features)\n",
    "impact_features\n",
    "impact_xval = np.array(impact_xval)"
   ]
  },
  {
   "cell_type": "code",
   "execution_count": null,
   "metadata": {},
   "outputs": [],
   "source": [
    "normalize = layers.Normalization()\n",
    "normalize.adapt(impact_features)"
   ]
  },
  {
   "cell_type": "code",
   "execution_count": null,
   "metadata": {},
   "outputs": [],
   "source": [
    "impact_model = tf.keras.Sequential([\n",
    "    normalize,\n",
    "    layers.Dense(100),\n",
    "    layers.Dense(50),\n",
    "    layers.Dense(20),\n",
    "    layers.Dense(2),\n",
    "])"
   ]
  },
  {
   "cell_type": "code",
   "execution_count": null,
   "metadata": {},
   "outputs": [],
   "source": [
    "impact_model.compile(loss = tf.losses.MeanSquaredError(),\n",
    "                           optimizer = tf.optimizers.Adam(),\n",
    "                           metrics=[keras.metrics.SparseCategoricalAccuracy()])"
   ]
  },
  {
   "cell_type": "code",
   "execution_count": null,
   "metadata": {},
   "outputs": [],
   "source": [
    "impact_model.fit(impact_features, impact_labels, batch_size=64, epochs=20, validation_data=(impact_xval, impact_yval))"
   ]
  }
 ],
 "metadata": {
  "interpreter": {
   "hash": "9b2fb6b2ee4472899ba72913df621d8a95a839f6635e2ba70ef0e15452a8b931"
  },
  "kernelspec": {
   "display_name": "Python 3.10.2 ('impact')",
   "language": "python",
   "name": "python3"
  },
  "language_info": {
   "codemirror_mode": {
    "name": "ipython",
    "version": 3
   },
   "file_extension": ".py",
   "mimetype": "text/x-python",
   "name": "python",
   "nbconvert_exporter": "python",
   "pygments_lexer": "ipython3",
   "version": "3.10.2"
  },
  "orig_nbformat": 4
 },
 "nbformat": 4,
 "nbformat_minor": 2
}
