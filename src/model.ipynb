{
 "cells": [
  {
   "cell_type": "code",
   "execution_count": 1,
   "metadata": {},
   "outputs": [],
   "source": [
    "# Import all the neccessary packages\n",
    "import tensorflow as tf\n",
    "import pandas as pd\n",
    "import numpy as np\n",
    "from tensorflow import keras\n",
    "from tensorflow.keras import layers\n",
    "import variable.const as constant\n",
    "#import data.input as input"
   ]
  },
  {
   "cell_type": "code",
   "execution_count": 2,
   "metadata": {},
   "outputs": [],
   "source": [
    "impact_train = pd.read_csv(constant.trainingfile)\n",
    "impact_test = pd.read_csv(constant.testingfile)"
   ]
  },
  {
   "cell_type": "code",
   "execution_count": 3,
   "metadata": {},
   "outputs": [
    {
     "data": {
      "text/html": [
       "<div>\n",
       "<style scoped>\n",
       "    .dataframe tbody tr th:only-of-type {\n",
       "        vertical-align: middle;\n",
       "    }\n",
       "\n",
       "    .dataframe tbody tr th {\n",
       "        vertical-align: top;\n",
       "    }\n",
       "\n",
       "    .dataframe thead th {\n",
       "        text-align: right;\n",
       "    }\n",
       "</style>\n",
       "<table border=\"1\" class=\"dataframe\">\n",
       "  <thead>\n",
       "    <tr style=\"text-align: right;\">\n",
       "      <th></th>\n",
       "      <th>classification</th>\n",
       "      <th>1</th>\n",
       "      <th>2</th>\n",
       "      <th>3</th>\n",
       "      <th>4</th>\n",
       "      <th>5</th>\n",
       "      <th>6</th>\n",
       "      <th>7</th>\n",
       "      <th>8</th>\n",
       "      <th>9</th>\n",
       "      <th>...</th>\n",
       "      <th>91</th>\n",
       "      <th>92</th>\n",
       "      <th>93</th>\n",
       "      <th>94</th>\n",
       "      <th>95</th>\n",
       "      <th>96</th>\n",
       "      <th>97</th>\n",
       "      <th>98</th>\n",
       "      <th>99</th>\n",
       "      <th>100</th>\n",
       "    </tr>\n",
       "  </thead>\n",
       "  <tbody>\n",
       "    <tr>\n",
       "      <th>0</th>\n",
       "      <td>1</td>\n",
       "      <td>11.22</td>\n",
       "      <td>11.24</td>\n",
       "      <td>11.22</td>\n",
       "      <td>11.20</td>\n",
       "      <td>11.19</td>\n",
       "      <td>11.22</td>\n",
       "      <td>11.29</td>\n",
       "      <td>11.35</td>\n",
       "      <td>11.39</td>\n",
       "      <td>...</td>\n",
       "      <td>6.50</td>\n",
       "      <td>5.95</td>\n",
       "      <td>5.93</td>\n",
       "      <td>6.31</td>\n",
       "      <td>6.96</td>\n",
       "      <td>7.82</td>\n",
       "      <td>8.81</td>\n",
       "      <td>9.81</td>\n",
       "      <td>10.69</td>\n",
       "      <td>11.37</td>\n",
       "    </tr>\n",
       "    <tr>\n",
       "      <th>1</th>\n",
       "      <td>1</td>\n",
       "      <td>9.79</td>\n",
       "      <td>9.82</td>\n",
       "      <td>9.89</td>\n",
       "      <td>9.99</td>\n",
       "      <td>10.13</td>\n",
       "      <td>10.30</td>\n",
       "      <td>10.47</td>\n",
       "      <td>10.65</td>\n",
       "      <td>10.84</td>\n",
       "      <td>...</td>\n",
       "      <td>9.04</td>\n",
       "      <td>9.22</td>\n",
       "      <td>9.47</td>\n",
       "      <td>9.77</td>\n",
       "      <td>10.07</td>\n",
       "      <td>10.38</td>\n",
       "      <td>10.78</td>\n",
       "      <td>11.23</td>\n",
       "      <td>11.73</td>\n",
       "      <td>12.21</td>\n",
       "    </tr>\n",
       "    <tr>\n",
       "      <th>2</th>\n",
       "      <td>1</td>\n",
       "      <td>9.92</td>\n",
       "      <td>10.20</td>\n",
       "      <td>10.55</td>\n",
       "      <td>10.97</td>\n",
       "      <td>11.33</td>\n",
       "      <td>11.48</td>\n",
       "      <td>11.36</td>\n",
       "      <td>11.12</td>\n",
       "      <td>10.86</td>\n",
       "      <td>...</td>\n",
       "      <td>14.24</td>\n",
       "      <td>13.64</td>\n",
       "      <td>13.00</td>\n",
       "      <td>12.37</td>\n",
       "      <td>11.76</td>\n",
       "      <td>11.11</td>\n",
       "      <td>10.46</td>\n",
       "      <td>9.83</td>\n",
       "      <td>9.19</td>\n",
       "      <td>8.80</td>\n",
       "    </tr>\n",
       "    <tr>\n",
       "      <th>3</th>\n",
       "      <td>0</td>\n",
       "      <td>10.25</td>\n",
       "      <td>10.26</td>\n",
       "      <td>10.26</td>\n",
       "      <td>10.26</td>\n",
       "      <td>10.26</td>\n",
       "      <td>10.27</td>\n",
       "      <td>10.27</td>\n",
       "      <td>10.26</td>\n",
       "      <td>10.27</td>\n",
       "      <td>...</td>\n",
       "      <td>10.26</td>\n",
       "      <td>10.27</td>\n",
       "      <td>10.27</td>\n",
       "      <td>10.27</td>\n",
       "      <td>10.27</td>\n",
       "      <td>10.27</td>\n",
       "      <td>10.27</td>\n",
       "      <td>10.27</td>\n",
       "      <td>10.27</td>\n",
       "      <td>10.26</td>\n",
       "    </tr>\n",
       "    <tr>\n",
       "      <th>4</th>\n",
       "      <td>0</td>\n",
       "      <td>9.98</td>\n",
       "      <td>10.00</td>\n",
       "      <td>9.82</td>\n",
       "      <td>9.95</td>\n",
       "      <td>10.57</td>\n",
       "      <td>10.85</td>\n",
       "      <td>10.55</td>\n",
       "      <td>10.40</td>\n",
       "      <td>10.62</td>\n",
       "      <td>...</td>\n",
       "      <td>10.33</td>\n",
       "      <td>10.19</td>\n",
       "      <td>10.14</td>\n",
       "      <td>10.18</td>\n",
       "      <td>10.26</td>\n",
       "      <td>10.28</td>\n",
       "      <td>10.32</td>\n",
       "      <td>10.35</td>\n",
       "      <td>10.47</td>\n",
       "      <td>10.52</td>\n",
       "    </tr>\n",
       "  </tbody>\n",
       "</table>\n",
       "<p>5 rows × 101 columns</p>\n",
       "</div>"
      ],
      "text/plain": [
       "   classification      1      2      3      4      5      6      7      8  \\\n",
       "0               1  11.22  11.24  11.22  11.20  11.19  11.22  11.29  11.35   \n",
       "1               1   9.79   9.82   9.89   9.99  10.13  10.30  10.47  10.65   \n",
       "2               1   9.92  10.20  10.55  10.97  11.33  11.48  11.36  11.12   \n",
       "3               0  10.25  10.26  10.26  10.26  10.26  10.27  10.27  10.26   \n",
       "4               0   9.98  10.00   9.82   9.95  10.57  10.85  10.55  10.40   \n",
       "\n",
       "       9  ...     91     92     93     94     95     96     97     98     99  \\\n",
       "0  11.39  ...   6.50   5.95   5.93   6.31   6.96   7.82   8.81   9.81  10.69   \n",
       "1  10.84  ...   9.04   9.22   9.47   9.77  10.07  10.38  10.78  11.23  11.73   \n",
       "2  10.86  ...  14.24  13.64  13.00  12.37  11.76  11.11  10.46   9.83   9.19   \n",
       "3  10.27  ...  10.26  10.27  10.27  10.27  10.27  10.27  10.27  10.27  10.27   \n",
       "4  10.62  ...  10.33  10.19  10.14  10.18  10.26  10.28  10.32  10.35  10.47   \n",
       "\n",
       "     100  \n",
       "0  11.37  \n",
       "1  12.21  \n",
       "2   8.80  \n",
       "3  10.26  \n",
       "4  10.52  \n",
       "\n",
       "[5 rows x 101 columns]"
      ]
     },
     "execution_count": 3,
     "metadata": {},
     "output_type": "execute_result"
    }
   ],
   "source": [
    "impact_train.head() # Validation of Data\n",
    "impact_test.head()"
   ]
  },
  {
   "cell_type": "code",
   "execution_count": 4,
   "metadata": {},
   "outputs": [],
   "source": [
    "impact_features = impact_train.copy()\n",
    "impact_labels = impact_features.pop('classification')\n",
    "\n",
    "impact_xval = impact_test.copy()\n",
    "impact_yval = impact_xval.pop('classification')"
   ]
  },
  {
   "cell_type": "code",
   "execution_count": 5,
   "metadata": {},
   "outputs": [],
   "source": [
    "impact_features = np.array(impact_features)\n",
    "impact_features\n",
    "impact_xval = np.array(impact_xval)"
   ]
  },
  {
   "cell_type": "code",
   "execution_count": 6,
   "metadata": {},
   "outputs": [
    {
     "name": "stderr",
     "output_type": "stream",
     "text": [
      "2022-03-14 19:01:19.553113: W tensorflow/core/platform/profile_utils/cpu_utils.cc:128] Failed to get CPU frequency: 0 Hz\n"
     ]
    }
   ],
   "source": [
    "normalize = layers.Normalization()\n",
    "normalize.adapt(impact_features)"
   ]
  },
  {
   "cell_type": "code",
   "execution_count": 7,
   "metadata": {},
   "outputs": [],
   "source": [
    "impact_model = tf.keras.Sequential([\n",
    "    normalize,\n",
    "    layers.Dense(100),\n",
    "    layers.Dense(50),\n",
    "    layers.Dense(20),\n",
    "    layers.Dense(2),\n",
    "])"
   ]
  },
  {
   "cell_type": "code",
   "execution_count": 8,
   "metadata": {},
   "outputs": [],
   "source": [
    "impact_model.compile(loss = tf.losses.MeanSquaredError(),\n",
    "                           optimizer = tf.optimizers.Adam(),\n",
    "                           metrics=[keras.metrics.SparseCategoricalAccuracy()])"
   ]
  },
  {
   "cell_type": "code",
   "execution_count": 9,
   "metadata": {},
   "outputs": [
    {
     "name": "stdout",
     "output_type": "stream",
     "text": [
      "Epoch 1/20\n",
      "1/1 [==============================] - 0s 304ms/step - loss: 4.3475 - sparse_categorical_accuracy: 0.6000 - val_loss: 1.3151 - val_sparse_categorical_accuracy: 0.7143\n",
      "Epoch 2/20\n",
      "1/1 [==============================] - 0s 12ms/step - loss: 2.3105 - sparse_categorical_accuracy: 0.5000 - val_loss: 0.9752 - val_sparse_categorical_accuracy: 0.7143\n",
      "Epoch 3/20\n",
      "1/1 [==============================] - 0s 13ms/step - loss: 1.4024 - sparse_categorical_accuracy: 0.5000 - val_loss: 0.9150 - val_sparse_categorical_accuracy: 0.8571\n",
      "Epoch 4/20\n",
      "1/1 [==============================] - 0s 13ms/step - loss: 1.1098 - sparse_categorical_accuracy: 0.6000 - val_loss: 0.9736 - val_sparse_categorical_accuracy: 0.8571\n",
      "Epoch 5/20\n",
      "1/1 [==============================] - 0s 13ms/step - loss: 1.0223 - sparse_categorical_accuracy: 0.5000 - val_loss: 1.0286 - val_sparse_categorical_accuracy: 0.8571\n",
      "Epoch 6/20\n",
      "1/1 [==============================] - 0s 13ms/step - loss: 0.9628 - sparse_categorical_accuracy: 0.5000 - val_loss: 1.0167 - val_sparse_categorical_accuracy: 0.7143\n",
      "Epoch 7/20\n",
      "1/1 [==============================] - 0s 13ms/step - loss: 0.8866 - sparse_categorical_accuracy: 0.4000 - val_loss: 0.9247 - val_sparse_categorical_accuracy: 0.7143\n",
      "Epoch 8/20\n",
      "1/1 [==============================] - 0s 13ms/step - loss: 0.7972 - sparse_categorical_accuracy: 0.4500 - val_loss: 0.7721 - val_sparse_categorical_accuracy: 0.7143\n",
      "Epoch 9/20\n",
      "1/1 [==============================] - 0s 14ms/step - loss: 0.7070 - sparse_categorical_accuracy: 0.4500 - val_loss: 0.5963 - val_sparse_categorical_accuracy: 0.7143\n",
      "Epoch 10/20\n",
      "1/1 [==============================] - 0s 13ms/step - loss: 0.6290 - sparse_categorical_accuracy: 0.4000 - val_loss: 0.4331 - val_sparse_categorical_accuracy: 0.5714\n",
      "Epoch 11/20\n",
      "1/1 [==============================] - 0s 13ms/step - loss: 0.5738 - sparse_categorical_accuracy: 0.3500 - val_loss: 0.3033 - val_sparse_categorical_accuracy: 0.4286\n",
      "Epoch 12/20\n",
      "1/1 [==============================] - 0s 13ms/step - loss: 0.5443 - sparse_categorical_accuracy: 0.3000 - val_loss: 0.2124 - val_sparse_categorical_accuracy: 0.5714\n",
      "Epoch 13/20\n",
      "1/1 [==============================] - 0s 12ms/step - loss: 0.5307 - sparse_categorical_accuracy: 0.3000 - val_loss: 0.1581 - val_sparse_categorical_accuracy: 0.7143\n",
      "Epoch 14/20\n",
      "1/1 [==============================] - 0s 13ms/step - loss: 0.5154 - sparse_categorical_accuracy: 0.4500 - val_loss: 0.1358 - val_sparse_categorical_accuracy: 0.5714\n",
      "Epoch 15/20\n",
      "1/1 [==============================] - 0s 13ms/step - loss: 0.4827 - sparse_categorical_accuracy: 0.4000 - val_loss: 0.1414 - val_sparse_categorical_accuracy: 0.4286\n",
      "Epoch 16/20\n",
      "1/1 [==============================] - 0s 13ms/step - loss: 0.4288 - sparse_categorical_accuracy: 0.3000 - val_loss: 0.1700 - val_sparse_categorical_accuracy: 0.4286\n",
      "Epoch 17/20\n",
      "1/1 [==============================] - 0s 13ms/step - loss: 0.3630 - sparse_categorical_accuracy: 0.3000 - val_loss: 0.2143 - val_sparse_categorical_accuracy: 0.5714\n",
      "Epoch 18/20\n",
      "1/1 [==============================] - 0s 13ms/step - loss: 0.3004 - sparse_categorical_accuracy: 0.3500 - val_loss: 0.2647 - val_sparse_categorical_accuracy: 0.5714\n",
      "Epoch 19/20\n",
      "1/1 [==============================] - 0s 12ms/step - loss: 0.2534 - sparse_categorical_accuracy: 0.3500 - val_loss: 0.3112 - val_sparse_categorical_accuracy: 0.5714\n",
      "Epoch 20/20\n",
      "1/1 [==============================] - 0s 14ms/step - loss: 0.2264 - sparse_categorical_accuracy: 0.5500 - val_loss: 0.3472 - val_sparse_categorical_accuracy: 0.5714\n"
     ]
    },
    {
     "data": {
      "text/plain": [
       "<keras.callbacks.History at 0x16888c7f0>"
      ]
     },
     "execution_count": 9,
     "metadata": {},
     "output_type": "execute_result"
    }
   ],
   "source": [
    "impact_model.fit(impact_features, impact_labels, batch_size=64, epochs=20, validation_data=(impact_xval, impact_yval))"
   ]
  }
 ],
 "metadata": {
  "interpreter": {
   "hash": "9b2fb6b2ee4472899ba72913df621d8a95a839f6635e2ba70ef0e15452a8b931"
  },
  "kernelspec": {
   "display_name": "Python 3.10.2 ('impact')",
   "language": "python",
   "name": "python3"
  },
  "language_info": {
   "codemirror_mode": {
    "name": "ipython",
    "version": 3
   },
   "file_extension": ".py",
   "mimetype": "text/x-python",
   "name": "python",
   "nbconvert_exporter": "python",
   "pygments_lexer": "ipython3",
   "version": "3.10.2"
  },
  "orig_nbformat": 4
 },
 "nbformat": 4,
 "nbformat_minor": 2
}
